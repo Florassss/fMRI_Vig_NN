{
 "cells": [
  {
   "cell_type": "code",
   "execution_count": 10,
   "metadata": {},
   "outputs": [],
   "source": [
    "import pandas as pd\n",
    "import numpy as np\n",
    "import os\n",
    "import scipy.io"
   ]
  },
  {
   "cell_type": "code",
   "execution_count": 11,
   "metadata": {},
   "outputs": [],
   "source": [
    "## get train_ids \n",
    "def loadData(root_dir):\n",
    "    train_ids = next(os.walk(root_dir))[2]\n",
    "    print(train_ids)\n",
    "    data =  scipy.io.loadmat(root_dir+train_ids[0])['ROIs_mask_perc']\n",
    "    vig = scipy.io.loadmat(root_dir+train_ids[0])['vigilance']\n",
    "    \n",
    "    for i in range(1, len(train_ids)):\n",
    "        curr_file = scipy.io.loadmat(root_dir+train_ids[i])\n",
    "        curr_data = curr_file['ROIs_mask_perc']\n",
    "        curr_vig = curr_file['vigilance']\n",
    "        data = np.column_stack((data, curr_data))\n",
    "        vig = np.vstack((vig, curr_vig))\n",
    "        #print(curr_vig.shape)\n",
    "        #vig.append(curr_vig)\n",
    "        \n",
    "    return data, np.transpose(vig)"
   ]
  },
  {
   "cell_type": "code",
   "execution_count": 12,
   "metadata": {},
   "outputs": [
    {
     "name": "stdout",
     "output_type": "stream",
     "text": [
      "['subj12.mat', 'subj3.mat', 'subj2.mat', 'subj13.mat', 'subj11.mat', 'subj1.mat', 'subj10.mat', 'subj14.mat', 'subj5.mat', 'subj4.mat', 'subj15.mat', 'subj17.mat', 'subj6.mat', 'subj7.mat', 'subj16.mat', 'subj18.mat', 'subj9.mat', 'subj8.mat', 'subj19.mat', 'subj20.mat']\n"
     ]
    }
   ],
   "source": [
    "data,vig = loadData('train2/')"
   ]
  },
  {
   "cell_type": "code",
   "execution_count": 13,
   "metadata": {},
   "outputs": [],
   "source": [
    "index = np.random.permutation(12755)"
   ]
  },
  {
   "cell_type": "code",
   "execution_count": 14,
   "metadata": {},
   "outputs": [],
   "source": [
    "train_index = index[:10000]\n",
    "test_index = index[10000:]\n",
    "\n",
    "train_x = data[:, train_index]\n",
    "train_v = vig[:,train_index]\n",
    "test_x = data[:,test_index]\n",
    "test_y = data[:,test_index]"
   ]
  },
  {
   "cell_type": "code",
   "execution_count": 15,
   "metadata": {},
   "outputs": [
    {
     "data": {
      "text/plain": [
       "(116, 10000)"
      ]
     },
     "execution_count": 15,
     "metadata": {},
     "output_type": "execute_result"
    }
   ],
   "source": [
    "train_x.shape"
   ]
  },
  {
   "cell_type": "code",
   "execution_count": null,
   "metadata": {},
   "outputs": [],
   "source": []
  }
 ],
 "metadata": {
  "kernelspec": {
   "display_name": "Python 3",
   "language": "python",
   "name": "python3"
  },
  "language_info": {
   "codemirror_mode": {
    "name": "ipython",
    "version": 3
   },
   "file_extension": ".py",
   "mimetype": "text/x-python",
   "name": "python",
   "nbconvert_exporter": "python",
   "pygments_lexer": "ipython3",
   "version": "3.6.8"
  }
 },
 "nbformat": 4,
 "nbformat_minor": 2
}
